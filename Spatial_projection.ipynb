{
 "cells": [
  {
   "cell_type": "markdown",
   "metadata": {},
   "source": [
    "# Ensemble predictions of DNNs for potentially dominant woody species in Ticino and averaging across yeardays\n"
   ]
  },
  {
   "cell_type": "markdown",
   "metadata": {},
   "source": [
    "## Load necessary packages"
   ]
  },
  {
   "cell_type": "code",
   "execution_count": 2,
   "metadata": {},
   "outputs": [],
   "source": [
    "# Import modules\n",
    "import os\n",
    "import torch\n",
    "import numpy as np\n",
    "import pandas as pd\n",
    "import torch.nn.functional as F\n",
    "\n",
    "# Custom module\n",
    "import models"
   ]
  },
  {
   "cell_type": "markdown",
   "metadata": {},
   "source": [
    "## Global definitions"
   ]
  },
  {
   "cell_type": "code",
   "execution_count": 3,
   "metadata": {},
   "outputs": [],
   "source": [
    "# =============================================================================\n",
    "# Definitions\n",
    "# =============================================================================\n",
    "\n",
    "out_tag = ''\n",
    "\n",
    "mod_ndcg='Mod_LR_ndcg.pth'\n",
    "mod_cent='Mod_LR_cent.pth'\n",
    "\n",
    "## Parameter dictionnary for Fitting    \n",
    "# Main\n",
    "params = {}\n",
    "params['batch_size'] = 500\n",
    "params['num_workers'] = 2\n",
    "params['device'] = 'cuda:0'\n",
    "\n",
    "env_file = 'Env_data_Tici.csv'\n",
    "\n",
    "# Read indices of woody species\n",
    "woodyf = open('woody_cands2.txt', 'r').read().splitlines()\n",
    "lili=[eval(i) for i in woodyf]\n",
    "wootens=torch.tensor(lili)"
   ]
  },
  {
   "cell_type": "markdown",
   "metadata": {},
   "source": [
    "## Define data set"
   ]
  },
  {
   "cell_type": "code",
   "execution_count": 4,
   "metadata": {},
   "outputs": [],
   "source": [
    "class FullDataset(torch.utils.data.Dataset):\n",
    "    \"\"\"InfoFlora dataset as stored on Sauron.\"\"\"\n",
    "\n",
    "    def __init__(self, test_file):       \n",
    "        \"\"\"\n",
    "        Args:\n",
    "            csv_file (string): Path to the csv file .\n",
    "\n",
    "        \"\"\"\n",
    "        feat_frame = pd.read_csv(test_file,low_memory=False)\n",
    "               \n",
    "        self.feat_frame = feat_frame\n",
    "\n",
    "        \n",
    "    def __len__(self):\n",
    "        return len(self.feat_frame)\n",
    "\n",
    "    def __getitem__(self, idx):\n",
    "        if torch.is_tensor(idx):\n",
    "            idx = idx.tolist()\n",
    "        \n",
    "        feats = np.array(self.feat_frame.loc[idx,:])\n",
    "\n",
    "        return  feats"
   ]
  },
  {
   "cell_type": "markdown",
   "metadata": {},
   "source": [
    "## Create the Dataset"
   ]
  },
  {
   "cell_type": "code",
   "execution_count": 5,
   "metadata": {},
   "outputs": [],
   "source": [
    "dase = FullDataset(test_file = env_file)\n",
    "\n",
    "dataloader = torch.utils.data.DataLoader(dase, \n",
    "                                         batch_size=params['batch_size'], \n",
    "                                         shuffle=False, \n",
    "                                         num_workers=params['num_workers'])"
   ]
  },
  {
   "cell_type": "markdown",
   "metadata": {},
   "source": [
    "## Prepare the model"
   ]
  },
  {
   "cell_type": "code",
   "execution_count": null,
   "metadata": {},
   "outputs": [],
   "source": [
    "map_location=torch.device(params['device'])\n",
    "mod1=torch.load(mod_ndcg,map_location=map_location)\n",
    "mod1.eval()\n",
    "\n",
    "mod2=torch.load(mod_ndcg,map_location=map_location)\n",
    "mod2.eval()"
   ]
  },
  {
   "cell_type": "markdown",
   "metadata": {},
   "source": [
    "##  Define yearday data"
   ]
  },
  {
   "cell_type": "code",
   "execution_count": 7,
   "metadata": {},
   "outputs": [],
   "source": [
    "doy=torch.arange(32,335) # Feb 1 to Nov 30\n",
    "\n",
    "dnorm=(doy)/365 *2 -1\n",
    "\n",
    "dcos=torch.cos(np.pi*dnorm)\n",
    "dsin=torch.sin(np.pi*dnorm)\n",
    "\n",
    "tdoy=torch.column_stack((dsin,dcos))\n",
    "\n",
    "# Prepare indices for merging of yearday and env. variables\n",
    "ind1=torch.arange(len(dcos))\n",
    "ind2=torch.arange(params['batch_size'])\n",
    "\n",
    "grid_x, grid_y = torch.meshgrid(ind1, ind2, indexing='ij')\n",
    "\n",
    "gd_x=grid_x.reshape(grid_x.size()[0]*grid_x.size()[1])\n",
    "gd_y=grid_y.reshape(grid_y.size()[0]*grid_y.size()[1])"
   ]
  },
  {
   "cell_type": "markdown",
   "metadata": {},
   "source": [
    "## Do the predictions"
   ]
  },
  {
   "cell_type": "code",
   "execution_count": null,
   "metadata": {},
   "outputs": [],
   "source": [
    "# Create empty list\n",
    "list_out = []\n",
    "\n",
    "# Loop over dataloader and predict\n",
    "for feats in dataloader:\n",
    "    \n",
    "    # Create an array with all combinations between env variables and yeardays (Feb 1 to Nov 30)\n",
    "    if feats.size()[0] != params['batch_size']:\n",
    "        \n",
    "        ind2=torch.arange(feats.size()[0])\n",
    "\n",
    "        grid_x, grid_y = torch.meshgrid(ind1, ind2, indexing='ij')\n",
    "\n",
    "        gdi_x=grid_x.reshape(grid_x.size()[0]*grid_x.size()[1])\n",
    "        gdi_y=grid_y.reshape(grid_y.size()[0]*grid_y.size()[1])\n",
    "        stk=torch.column_stack((feats[gdi_y,:],tdoy[gdi_x,:]))\n",
    "    \n",
    "    else: \n",
    "        gdi_x = gd_x\n",
    "        gdi_y = gd_y\n",
    "        stk=torch.column_stack((feats[gd_y,:],tdoy[gd_x,:]))\n",
    "    \n",
    "    # Make predictions\n",
    "    stk = stk.to(params['device'])\n",
    "    out1 = mod1(stk).detach()\n",
    "    out2 = mod2(stk).detach()\n",
    "    \n",
    "    prd1 = F.softmax(out1,dim=1)\n",
    "    prd2 = F.softmax(out2,dim=1)\n",
    "    \n",
    "    del out1\n",
    "    del out2\n",
    "    \n",
    "    # Ensemble both models by square root of geometric mean\n",
    "    prdens = torch.sqrt(prd1 * prd2)\n",
    "    \n",
    "    del prd1\n",
    "    del prd2\n",
    "\n",
    "    li_px = []\n",
    "    \n",
    "    # Calculate pixel-wise time series statistics\n",
    "    for i in ind2.tolist():\n",
    "        \n",
    "        pdi = prdens[gdi_y == i,:]\n",
    "        \n",
    "        ### average probabilities across yearday for each pixel\n",
    "        md=torch.mean(pdi,0).detach()\n",
    "        rnd=torch.round(md[wootens],decimals=4)\n",
    "        li_px.append(rnd)\n",
    "        \n",
    "    tosta=torch.stack(li_px)\n",
    "    list_out.append(tosta)  \n",
    "    print(\"sali\")"
   ]
  },
  {
   "cell_type": "markdown",
   "metadata": {},
   "source": [
    "## Bind full list and save"
   ]
  },
  {
   "cell_type": "code",
   "execution_count": null,
   "metadata": {},
   "outputs": [],
   "source": [
    "# Create an array with averaged probabilities for each pixel (row) and woody species (column)\n",
    "tab_out=torch.cat(list_out,0)\n",
    "\n",
    "tab2 = tab_out.detach().cpu().numpy()\n",
    "\n",
    "np.save(\"EcoImg_spatpred_woody_Ticino.npy\", tab2)\n"
   ]
  }
 ],
 "metadata": {
  "kernelspec": {
   "display_name": "Python 3 (ipykernel)",
   "language": "python",
   "name": "python3"
  },
  "language_info": {
   "codemirror_mode": {
    "name": "ipython",
    "version": 3
   },
   "file_extension": ".py",
   "mimetype": "text/x-python",
   "name": "python",
   "nbconvert_exporter": "python",
   "pygments_lexer": "ipython3",
   "version": "3.10.10"
  }
 },
 "nbformat": 4,
 "nbformat_minor": 4
}
